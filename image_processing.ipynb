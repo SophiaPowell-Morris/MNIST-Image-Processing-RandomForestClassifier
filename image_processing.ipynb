{
 "cells": [
  {
   "cell_type": "code",
   "execution_count": 1,
   "id": "789d3596",
   "metadata": {},
   "outputs": [],
   "source": [
    "import scipy.io\n",
    "import numpy as np\n",
    "import matplotlib.pyplot as plt\n",
    "%matplotlib inline\n",
    "\n",
    "from sklearn.ensemble import RandomForestClassifier\n",
    "from sklearn.model_selection import train_test_split\n",
    "from sklearn.metrics import accuracy_score"
   ]
  },
  {
   "cell_type": "code",
   "execution_count": 2,
   "id": "82d7976d",
   "metadata": {},
   "outputs": [],
   "source": [
    "# load dataset\n",
    "train_data = scipy.io.loadmat('extra_32x32.mat')"
   ]
  },
  {
   "cell_type": "code",
   "execution_count": 3,
   "id": "b54069bf",
   "metadata": {},
   "outputs": [],
   "source": [
    "# extract the images and labels from the dictionary object\n",
    "X = train_data['X']\n",
    "y = train_data['y']"
   ]
  },
  {
   "cell_type": "code",
   "execution_count": 4,
   "id": "ef87df20",
   "metadata": {},
   "outputs": [
    {
     "name": "stdout",
     "output_type": "stream",
     "text": [
      "(32, 32, 3, 531131)\n",
      "(531131, 1)\n"
     ]
    }
   ],
   "source": [
    "print(X.shape)\n",
    "print(y.shape)"
   ]
  },
  {
   "cell_type": "code",
   "execution_count": 5,
   "id": "28c18374",
   "metadata": {},
   "outputs": [
    {
     "data": {
      "text/plain": [
       "<matplotlib.image.AxesImage at 0x2894621d160>"
      ]
     },
     "execution_count": 5,
     "metadata": {},
     "output_type": "execute_result"
    },
    {
     "data": {
      "image/png": "[encoded data removed]",
      "text/plain": [
       "<Figure size 640x480 with 1 Axes>"
      ]
     },
     "metadata": {},
     "output_type": "display_data"
    }
   ],
   "source": [
    "# view an image and print its corresponding label\n",
    "# choose any value between 0 - 531130\n",
    "img_index = 25\n",
    "\n",
    "# matrix [32 32 3 531131] [width height colour image]\n",
    "plt.imshow(X[:,:,:,img_index])"
   ]
  },
  {
   "cell_type": "code",
   "execution_count": 6,
   "id": "1ea3a8cf",
   "metadata": {},
   "outputs": [],
   "source": [
    "X = X.transpose([3,0,1,2])"
   ]
  },
  {
   "cell_type": "code",
   "execution_count": 7,
   "id": "752a6e1f",
   "metadata": {},
   "outputs": [
    {
     "data": {
      "text/plain": [
       "(531131, 32, 32, 3)"
      ]
     },
     "execution_count": 7,
     "metadata": {},
     "output_type": "execute_result"
    }
   ],
   "source": [
    "X.shape"
   ]
  },
  {
   "cell_type": "code",
   "execution_count": 8,
   "id": "c4d36ca1",
   "metadata": {},
   "outputs": [
    {
     "data": {
      "text/plain": [
       "(531131, 3072)"
      ]
     },
     "execution_count": 8,
     "metadata": {},
     "output_type": "execute_result"
    }
   ],
   "source": [
    "# reducing the dimensions of each array \n",
    "X = X.reshape((-1, X.shape[1] * X.shape[2] * X.shape[3]))\n",
    "X.shape"
   ]
  },
  {
   "cell_type": "code",
   "execution_count": 9,
   "id": "ee0a32d3",
   "metadata": {},
   "outputs": [
    {
     "name": "stdout",
     "output_type": "stream",
     "text": [
      "RandomForestClassifier()\n"
     ]
    }
   ],
   "source": [
    "# define the RandomForestClassifier\n",
    "rf_clf = RandomForestClassifier()\n",
    "# view parameters, use default settings \n",
    "print(rf_clf)"
   ]
  },
  {
   "cell_type": "code",
   "execution_count": null,
   "id": "38af3029",
   "metadata": {},
   "outputs": [],
   "source": [
    "# training the model\n",
    "X_train, X_test, y_train, y_test = train_test_split(X, y, test_size=0.2, random_state=42)\n",
    "\n",
    "# fit model to training set\n",
    "rf_clf.fit(X_train, y_train)"
   ]
  },
  {
   "cell_type": "markdown",
   "id": "19ad2a6f",
   "metadata": {},
   "source": [
    "* This will take awhile due to the large dataset\n",
    "* Can train on a smaller dataset, however fewer images reduces the accuracy of the model"
   ]
  },
  {
   "cell_type": "code",
   "execution_count": null,
   "id": "ce809825",
   "metadata": {},
   "outputs": [],
   "source": [
    "# test the model\n",
    "pred = rf_clf.predict(X_test)\n",
    "print(\"Accuracy:\", accuracy_score(y_test, pred))"
   ]
  }
 ],
 "metadata": {
  "kernelspec": {
   "display_name": "Python 3 (ipykernel)",
   "language": "python",
   "name": "python3"
  },
  "language_info": {
   "codemirror_mode": {
    "name": "ipython",
    "version": 3
   },
   "file_extension": ".py",
   "mimetype": "text/x-python",
   "name": "python",
   "nbconvert_exporter": "python",
   "pygments_lexer": "ipython3",
   "version": "3.8.8"
  }
 },
 "nbformat": 4,
 "nbformat_minor": 5
}
